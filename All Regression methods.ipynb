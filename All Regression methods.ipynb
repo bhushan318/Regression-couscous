{
 "cells": [
  {
   "cell_type": "markdown",
   "metadata": {},
   "source": [
    "# Import required Packages"
   ]
  },
  {
   "cell_type": "code",
   "execution_count": 1,
   "metadata": {},
   "outputs": [],
   "source": [
    "import numpy as np\n",
    "import pandas as pd\n",
    "import statsmodels.api as sm\n",
    "import statsmodels.formula.api as smf\n",
    "import matplotlib.pyplot as plt\n",
    "import operator\n",
    "import seaborn as sns\n",
    "sns.set()\n",
    "from sklearn import preprocessing\n",
    "from sklearn.metrics import r2_score\n",
    "from sklearn.metrics import mean_squared_error\n",
    "from sklearn.metrics import mean_absolute_error\n",
    "from sklearn.linear_model import LinearRegression\n",
    "from sklearn.preprocessing import PolynomialFeatures\n",
    "from sklearn.model_selection import train_test_split\n",
    "import warnings\n",
    "warnings.filterwarnings(\"ignore\")"
   ]
  },
  {
   "cell_type": "markdown",
   "metadata": {},
   "source": [
    "## Created results function to compute  mean square error of training and testing of each model\n"
   ]
  },
  {
   "cell_type": "code",
   "execution_count": 85,
   "metadata": {},
   "outputs": [],
   "source": [
    "def resultss(method, model,X_train, X_test, y_train, y_test):\n",
    "    y_fitted = model.predict(X_train)\n",
    "    error_mse_f = round(mean_squared_error(y_train, y_fitted))\n",
    "    error_mae_f = round(mean_absolute_error(y_train, y_fitted))\n",
    "    if len(X_test)>0:\n",
    "        y_pred = model.predict(X_test)\n",
    "        error_mse_p = round(mean_squared_error(y_test, y_pred))\n",
    "        error_mae_p = round(mean_absolute_error(y_test, y_pred))\n",
    "    else:\n",
    "        error_mse_p=np.nan\n",
    "        error_mae_p=np.nan        \n",
    "    return(method,error_mse_f,error_mae_f,error_mse_p,error_mae_p,len(X_train))"
   ]
  },
  {
   "cell_type": "markdown",
   "metadata": {},
   "source": [
    "# 1. Linear Regression \n",
    "https://scikit-learn.org/stable/modules/generated/sklearn.linear_model.LinearRegression.html"
   ]
  },
  {
   "cell_type": "code",
   "execution_count": 88,
   "metadata": {},
   "outputs": [],
   "source": [
    "def LR(X_train, X_test, y_train, y_test):\n",
    "    try:\n",
    "        model_LR= LinearRegression() \n",
    "        model_LR.fit(X_train, y_train) \n",
    "        results_LR= resultss(\"LR\",model_LR,X_train, X_test, y_train, y_test )\n",
    "        return(results_LR)\n",
    "    except:\n",
    "        return(\"LR\",np.nan, np.nan,np.nan, np.nan,len(X_train))"
   ]
  },
  {
   "cell_type": "markdown",
   "metadata": {},
   "source": [
    "# 2. Polynomial Regression\n",
    "https://scikit-learn.org/stable/modules/generated/sklearn.preprocessing.PolynomialFeatures.html"
   ]
  },
  {
   "cell_type": "code",
   "execution_count": 89,
   "metadata": {},
   "outputs": [],
   "source": [
    "def Poly(x,y,degree_):\n",
    "\n",
    "    try:\n",
    "        np.random.seed(0)\n",
    "    # transforming the data to include another axis\n",
    "        polynomial_features= PolynomialFeatures(degree=degree_)\n",
    "        x_poly = polynomial_features.fit_transform(x)\n",
    "        n=uservalue\n",
    "        X_train, X_test=  x_poly[0:len(x_poly)-n], x_poly[len(x_poly)-n:]\n",
    "        y_train, y_test=  y[0:len(x_poly)-n], y[len(x_poly)-n:]\n",
    "        normalizer = preprocessing.Normalizer().fit(x_poly)\n",
    "        X_train, X_test=  normalizer.transform(X_train), normalizer.transform(X_test)\n",
    "        model_Poly = LinearRegression()\n",
    "        model_Poly.fit(X_train, y_train)\n",
    "        results_Poly= resultss(\"poly\",model_Poly,X_train, X_test, y_train, y_test)\n",
    "        return(results_Poly)\n",
    "    except:\n",
    "        return(\"poly\",np.nan, np.nan,np.nan, np.nan,len(x)-3)"
   ]
  },
  {
   "cell_type": "markdown",
   "metadata": {},
   "source": [
    "# 3. Quantile Regression \n",
    "https://www.statsmodels.org/stable/generated/statsmodels.regression.quantile_regression.QuantReg.html"
   ]
  },
  {
   "cell_type": "code",
   "execution_count": 90,
   "metadata": {},
   "outputs": [],
   "source": [
    "def Quantile(X_train, X_test, y_train, y_test):\n",
    "    from statsmodels.regression.quantile_regression import QuantReg\n",
    "    try:\n",
    "        model_quantile = QuantReg(y_train,X_train)\n",
    "        model_quantile = model_quantile.fit(q=.5)\n",
    "        results_QT= resultss(\"Quantile\",model_quantile,X_train, X_test, y_train, y_test )\n",
    "        return(results_QT)\n",
    "    except:\n",
    "        return(\"Quantile\",np.nan, np.nan,np.nan, np.nan,len(X_train))"
   ]
  },
  {
   "cell_type": "markdown",
   "metadata": {},
   "source": [
    "# 4. Ridge Regression \n",
    "https://scikit-learn.org/stable/modules/generated/sklearn.linear_model.Ridge.html"
   ]
  },
  {
   "cell_type": "code",
   "execution_count": 91,
   "metadata": {},
   "outputs": [],
   "source": [
    "def Ridge(X_train, X_test, y_train, y_test):\n",
    "    from sklearn.linear_model import Ridge\n",
    "    try:\n",
    "        model_Ridge = Ridge(alpha=1.0)\n",
    "        model_Ridge.fit(X_train, y_train) \n",
    "        results_Ridge= resultss(\"Ridge\",model_Ridge,X_train, X_test, y_train, y_test )\n",
    "        return(results_Ridge)\n",
    "    except:\n",
    "        return(\"Ridge\",np.nan, np.nan,np.nan, np.nan,len(X_train))"
   ]
  },
  {
   "cell_type": "markdown",
   "metadata": {},
   "source": [
    "# 5. Lassos Regression \n",
    "Lasso stands for Least Absolute Shrinkage and Selection Operator. It makes use of L1 regularization technique in the objective function.\n",
    "https://scikit-learn.org/stable/modules/generated/sklearn.linear_model.Lasso.html"
   ]
  },
  {
   "cell_type": "code",
   "execution_count": 93,
   "metadata": {},
   "outputs": [],
   "source": [
    "def Lasso(X_train, X_test, y_train, y_test):\n",
    "    from sklearn import linear_model\n",
    "    try:\n",
    "        model_Lasso = linear_model.Lasso(alpha=0.1)\n",
    "        model_Lasso.fit(X_train, y_train)\n",
    "        results_Lasso= resultss(\"Lasso\",model_Lasso,X_train, X_test, y_train, y_test )\n",
    "        return(results_Lasso)\n",
    "    except:\n",
    "        return(\"Lasso\",np.nan, np.nan,np.nan, np.nan,len(X_train))"
   ]
  },
  {
   "cell_type": "markdown",
   "metadata": {},
   "source": [
    "# 6. Elastic Net Regression\n",
    "Elastic Net regression is preferred over both ridge and lasso regression when one is dealing with highly correlated independent variables.\n",
    "It is a combination of both L1 and L2 regularization.\n",
    "\n",
    "https://scikit-learn.org/stable/modules/generated/sklearn.linear_model.ElasticNet.html"
   ]
  },
  {
   "cell_type": "code",
   "execution_count": 94,
   "metadata": {},
   "outputs": [],
   "source": [
    "def ENR(X_train, X_test, y_train, y_test):\n",
    "    from sklearn.linear_model import ElasticNet\n",
    "    try:\n",
    "        model_ENR = ElasticNet(random_state=0)\n",
    "        model_ENR.fit(X_train, y_train)\n",
    "        results_ENR= resultss(\"ENR\",model_ENR,X_train, X_test, y_train, y_test )\n",
    "        return(results_ENR)\n",
    "    except:\n",
    "        return(\"ENR\",np.nan, np.nan,np.nan, np.nan,len(X_train))"
   ]
  },
  {
   "cell_type": "markdown",
   "metadata": {},
   "source": [
    "# 7. Principal Components Regression (PCR)\n",
    "\n",
    "reduce the number of variables that are effectively used to describe the data\n",
    "\n",
    "https://scikit-learn.org/stable/auto_examples/cross_decomposition/plot_pcr_vs_pls.html"
   ]
  },
  {
   "cell_type": "code",
   "execution_count": 95,
   "metadata": {},
   "outputs": [],
   "source": [
    "def PCR(x, y):\n",
    "    from sklearn.decomposition import PCA\n",
    "    from sklearn import linear_model\n",
    "    try:\n",
    "        pca = PCA(n_components=10, svd_solver='arpack')\n",
    "        pca.fit(x)\n",
    "        Xreg = pca.fit_transform(x)\n",
    "        n=uservalue\n",
    "        X_train, X_test=  Xreg.iloc[0:len(Xreg)-n,:], Xreg.iloc[len(Xreg)-n:,]\n",
    "        y_train, y_test=  y.iloc[0:len(y)-n], y.iloc[len(y)-n:]\n",
    "        normalizer = preprocessing.Normalizer().fit(Xreg)\n",
    "        X_train, X_test=  normalizer.transform(X_train), normalizer.transform(X_test)\n",
    "\n",
    "        model_PCR = LinearRegression()\n",
    "        model_PCR.fit(X_train, y_train)\n",
    "        results_PCR= resultss(\"PCR\",model_PCR,X_train, X_test, y_train, y_test )\n",
    "        return(results_PCR)\n",
    "    except:\n",
    "        return(\"PCR\",np.nan, np.nan,np.nan, np.nan,len(x)-3)"
   ]
  },
  {
   "cell_type": "markdown",
   "metadata": {},
   "source": [
    "# 8. Partial Least Squares (PLS) Regression\n",
    "\n",
    "It is an alternative technique of principal component regression when you have independent variables highly correlated. It is also useful when there are a large number of independent variables.\n",
    "https://scikit-learn.org/stable/auto_examples/cross_decomposition/plot_pcr_vs_pls.html"
   ]
  },
  {
   "cell_type": "code",
   "execution_count": 96,
   "metadata": {},
   "outputs": [],
   "source": [
    "def PLS(X_train, X_test, y_train, y_test):\n",
    "    from sklearn.cross_decomposition import PLSRegression\n",
    "    try:\n",
    "        model_PLS = PLSRegression(n_components=2)\n",
    "        model_PLS.fit(X_train, y_train)\n",
    "        results_PLS= resultss(\"PLS\",model_PLS,X_train, X_test, y_train, y_test )\n",
    "        return(results_PLS)\n",
    "    except:\n",
    "        return(\"PLS\",np.nan, np.nan,np.nan, np.nan,len(X_train))"
   ]
  },
  {
   "cell_type": "markdown",
   "metadata": {},
   "source": [
    "# 9. Support Vector Regression\n",
    "https://scikit-learn.org/stable/auto_examples/svm/plot_svm_regression.html#"
   ]
  },
  {
   "cell_type": "code",
   "execution_count": 97,
   "metadata": {},
   "outputs": [],
   "source": [
    "def SVR(X_train, X_test, y_train, y_test):\n",
    "    from sklearn import svm\n",
    "    try:\n",
    "        model_SVR = svm.SVR()\n",
    "        model_SVR.fit(X_train, y_train)\n",
    "        results_SVR= resultss(\"SVR\",model_SVR,X_train, X_test, y_train, y_test )\n",
    "        return(results_SVR)\n",
    "    except:\n",
    "        return(\"PLS\",np.nan, np.nan,np.nan, np.nan,len(X_train))"
   ]
  },
  {
   "cell_type": "markdown",
   "metadata": {},
   "source": [
    "# 10. Decision Tree Regression\n",
    "\n",
    "https://scikit-learn.org/stable/modules/generated/sklearn.tree.DecisionTreeRegressor.html"
   ]
  },
  {
   "cell_type": "code",
   "execution_count": 99,
   "metadata": {},
   "outputs": [],
   "source": [
    "def DT(X_train, X_test, y_train, y_test):\n",
    "    from sklearn.tree import DecisionTreeRegressor\n",
    "\n",
    "    try:\n",
    "        model = DecisionTreeRegressor(max_depth=5)\n",
    "        model.fit(X_train, y_train)\n",
    "        results= resultss(\"DT\",model,X_train, X_test, y_train, y_test )\n",
    "        return(results)\n",
    "    except:\n",
    "        return(\"DT\",np.nan, np.nan,np.nan, np.nan,len(X_train))"
   ]
  },
  {
   "cell_type": "markdown",
   "metadata": {},
   "source": [
    "# 11. Random Forest \n",
    "https://scikit-learn.org/stable/modules/generated/sklearn.ensemble.RandomForestRegressor.html"
   ]
  },
  {
   "cell_type": "code",
   "execution_count": 100,
   "metadata": {},
   "outputs": [],
   "source": [
    "def RF(X_train, X_test, y_train, y_test):\n",
    "    from sklearn.ensemble import RandomForestRegressor\n",
    "\n",
    "    try:\n",
    "        model = RandomForestRegressor(max_depth=5, random_state=0)\n",
    "        model.fit(X_train, y_train)\n",
    "        results= resultss(\"RF\",model,X_train, X_test, y_train, y_test )\n",
    "        return(results)\n",
    "    except:\n",
    "        return(\"RF\",np.nan, np.nan,np.nan, np.nan,len(X_train))"
   ]
  },
  {
   "cell_type": "markdown",
   "metadata": {},
   "source": [
    "# 12. Gradient Boost Regression \n",
    "https://scikit-learn.org/stable/modules/generated/sklearn.ensemble.GradientBoostingRegressor.html"
   ]
  },
  {
   "cell_type": "code",
   "execution_count": 101,
   "metadata": {},
   "outputs": [],
   "source": [
    "def GBR(X_train, X_test, y_train, y_test):\n",
    "    from sklearn.ensemble import GradientBoostingRegressor\n",
    "\n",
    "    try:\n",
    "        model = GradientBoostingRegressor(random_state=0)\n",
    "        model.fit(X_train, y_train)\n",
    "        results= resultss(\"GBR\",model,X_train, X_test, y_train, y_test )\n",
    "        return(results)\n",
    "    except:\n",
    "        return(\"GBR\",np.nan, np.nan,np.nan, np.nan,len(X_train))"
   ]
  },
  {
   "cell_type": "markdown",
   "metadata": {},
   "source": [
    "# Load Data (only .xlsx file format)\n",
    "\n",
    "Here cardeko data was to predict the price of vehicle \n",
    "\n",
    "https://www.kaggle.com/nehalbirla/vehicle-dataset-from-cardekho"
   ]
  },
  {
   "cell_type": "code",
   "execution_count": 70,
   "metadata": {},
   "outputs": [
    {
     "data": {
      "text/html": [
       "<div>\n",
       "<style scoped>\n",
       "    .dataframe tbody tr th:only-of-type {\n",
       "        vertical-align: middle;\n",
       "    }\n",
       "\n",
       "    .dataframe tbody tr th {\n",
       "        vertical-align: top;\n",
       "    }\n",
       "\n",
       "    .dataframe thead th {\n",
       "        text-align: right;\n",
       "    }\n",
       "</style>\n",
       "<table border=\"1\" class=\"dataframe\">\n",
       "  <thead>\n",
       "    <tr style=\"text-align: right;\">\n",
       "      <th></th>\n",
       "      <th>Car_Name</th>\n",
       "      <th>Year</th>\n",
       "      <th>Selling_Price</th>\n",
       "      <th>Present_Price</th>\n",
       "      <th>Kms_Driven</th>\n",
       "      <th>Fuel_Type</th>\n",
       "      <th>Seller_Type</th>\n",
       "      <th>Transmission</th>\n",
       "      <th>Owner</th>\n",
       "    </tr>\n",
       "  </thead>\n",
       "  <tbody>\n",
       "    <tr>\n",
       "      <th>0</th>\n",
       "      <td>ritz</td>\n",
       "      <td>2014</td>\n",
       "      <td>3.35</td>\n",
       "      <td>5.59</td>\n",
       "      <td>27000</td>\n",
       "      <td>Petrol</td>\n",
       "      <td>Dealer</td>\n",
       "      <td>Manual</td>\n",
       "      <td>0</td>\n",
       "    </tr>\n",
       "    <tr>\n",
       "      <th>1</th>\n",
       "      <td>sx4</td>\n",
       "      <td>2013</td>\n",
       "      <td>4.75</td>\n",
       "      <td>9.54</td>\n",
       "      <td>43000</td>\n",
       "      <td>Diesel</td>\n",
       "      <td>Dealer</td>\n",
       "      <td>Manual</td>\n",
       "      <td>0</td>\n",
       "    </tr>\n",
       "    <tr>\n",
       "      <th>2</th>\n",
       "      <td>ciaz</td>\n",
       "      <td>2017</td>\n",
       "      <td>7.25</td>\n",
       "      <td>9.85</td>\n",
       "      <td>6900</td>\n",
       "      <td>Petrol</td>\n",
       "      <td>Dealer</td>\n",
       "      <td>Manual</td>\n",
       "      <td>0</td>\n",
       "    </tr>\n",
       "    <tr>\n",
       "      <th>3</th>\n",
       "      <td>wagon r</td>\n",
       "      <td>2011</td>\n",
       "      <td>2.85</td>\n",
       "      <td>4.15</td>\n",
       "      <td>5200</td>\n",
       "      <td>Petrol</td>\n",
       "      <td>Dealer</td>\n",
       "      <td>Manual</td>\n",
       "      <td>0</td>\n",
       "    </tr>\n",
       "    <tr>\n",
       "      <th>4</th>\n",
       "      <td>swift</td>\n",
       "      <td>2014</td>\n",
       "      <td>4.60</td>\n",
       "      <td>6.87</td>\n",
       "      <td>42450</td>\n",
       "      <td>Diesel</td>\n",
       "      <td>Dealer</td>\n",
       "      <td>Manual</td>\n",
       "      <td>0</td>\n",
       "    </tr>\n",
       "    <tr>\n",
       "      <th>5</th>\n",
       "      <td>vitara brezza</td>\n",
       "      <td>2018</td>\n",
       "      <td>9.25</td>\n",
       "      <td>9.83</td>\n",
       "      <td>2071</td>\n",
       "      <td>Diesel</td>\n",
       "      <td>Dealer</td>\n",
       "      <td>Manual</td>\n",
       "      <td>0</td>\n",
       "    </tr>\n",
       "    <tr>\n",
       "      <th>6</th>\n",
       "      <td>ciaz</td>\n",
       "      <td>2015</td>\n",
       "      <td>6.75</td>\n",
       "      <td>8.12</td>\n",
       "      <td>18796</td>\n",
       "      <td>Petrol</td>\n",
       "      <td>Dealer</td>\n",
       "      <td>Manual</td>\n",
       "      <td>0</td>\n",
       "    </tr>\n",
       "    <tr>\n",
       "      <th>7</th>\n",
       "      <td>s cross</td>\n",
       "      <td>2015</td>\n",
       "      <td>6.50</td>\n",
       "      <td>8.61</td>\n",
       "      <td>33429</td>\n",
       "      <td>Diesel</td>\n",
       "      <td>Dealer</td>\n",
       "      <td>Manual</td>\n",
       "      <td>0</td>\n",
       "    </tr>\n",
       "    <tr>\n",
       "      <th>8</th>\n",
       "      <td>ciaz</td>\n",
       "      <td>2016</td>\n",
       "      <td>8.75</td>\n",
       "      <td>8.89</td>\n",
       "      <td>20273</td>\n",
       "      <td>Diesel</td>\n",
       "      <td>Dealer</td>\n",
       "      <td>Manual</td>\n",
       "      <td>0</td>\n",
       "    </tr>\n",
       "    <tr>\n",
       "      <th>9</th>\n",
       "      <td>ciaz</td>\n",
       "      <td>2015</td>\n",
       "      <td>7.45</td>\n",
       "      <td>8.92</td>\n",
       "      <td>42367</td>\n",
       "      <td>Diesel</td>\n",
       "      <td>Dealer</td>\n",
       "      <td>Manual</td>\n",
       "      <td>0</td>\n",
       "    </tr>\n",
       "  </tbody>\n",
       "</table>\n",
       "</div>"
      ],
      "text/plain": [
       "        Car_Name  Year  Selling_Price  Present_Price  Kms_Driven Fuel_Type  \\\n",
       "0           ritz  2014           3.35           5.59       27000    Petrol   \n",
       "1            sx4  2013           4.75           9.54       43000    Diesel   \n",
       "2           ciaz  2017           7.25           9.85        6900    Petrol   \n",
       "3        wagon r  2011           2.85           4.15        5200    Petrol   \n",
       "4          swift  2014           4.60           6.87       42450    Diesel   \n",
       "5  vitara brezza  2018           9.25           9.83        2071    Diesel   \n",
       "6           ciaz  2015           6.75           8.12       18796    Petrol   \n",
       "7        s cross  2015           6.50           8.61       33429    Diesel   \n",
       "8           ciaz  2016           8.75           8.89       20273    Diesel   \n",
       "9           ciaz  2015           7.45           8.92       42367    Diesel   \n",
       "\n",
       "  Seller_Type Transmission  Owner  \n",
       "0      Dealer       Manual      0  \n",
       "1      Dealer       Manual      0  \n",
       "2      Dealer       Manual      0  \n",
       "3      Dealer       Manual      0  \n",
       "4      Dealer       Manual      0  \n",
       "5      Dealer       Manual      0  \n",
       "6      Dealer       Manual      0  \n",
       "7      Dealer       Manual      0  \n",
       "8      Dealer       Manual      0  \n",
       "9      Dealer       Manual      0  "
      ]
     },
     "execution_count": 70,
     "metadata": {},
     "output_type": "execute_result"
    }
   ],
   "source": [
    "import easygui as eg\n",
    "path = eg.fileopenbox()\n",
    "df = pd.read_csv (path)\n",
    "df.head(10)"
   ]
  },
  {
   "cell_type": "markdown",
   "metadata": {},
   "source": [
    "# Select Y variable (Target variable)"
   ]
  },
  {
   "cell_type": "code",
   "execution_count": 71,
   "metadata": {},
   "outputs": [
    {
     "name": "stdout",
     "output_type": "stream",
     "text": [
      "[0]\n",
      "Selling_Price\n"
     ]
    }
   ],
   "source": [
    "choices=df.columns.values\n",
    "title='List of columns'\n",
    "#selection=eg.multchoicebox('Choose Column Names',title,choices,preselect=2)\n",
    "\n",
    "selection_for_Target_Variable =eg.choicebox('Choose Column Names for y-axis(Target Variable)',title,choices)\n",
    "print(selection_for_Target_Variable)\n"
   ]
  },
  {
   "cell_type": "markdown",
   "metadata": {},
   "source": [
    "# Plot Trend "
   ]
  },
  {
   "cell_type": "code",
   "execution_count": 72,
   "metadata": {},
   "outputs": [
    {
     "data": {
      "text/plain": [
       "<matplotlib.legend.Legend at 0x19645de4640>"
      ]
     },
     "execution_count": 72,
     "metadata": {},
     "output_type": "execute_result"
    },
    {
     "data": {
      "image/png": "[encoded data removed]",
      "text/plain": [
       "<Figure size 1080x504 with 1 Axes>"
      ]
     },
     "metadata": {},
     "output_type": "display_data"
    }
   ],
   "source": [
    "ts = df[selection_for_Target_Variable]\n",
    "plt.figure(figsize=(15,7))\n",
    "plt.plot(df[selection_for_Target_Variable], label=\"Selling_Price\", color= 'Blue')\n",
    "plt.legend(loc=1)"
   ]
  },
  {
   "cell_type": "code",
   "execution_count": 73,
   "metadata": {},
   "outputs": [
    {
     "data": {
      "text/plain": [
       "60"
      ]
     },
     "execution_count": 73,
     "metadata": {},
     "output_type": "execute_result"
    }
   ],
   "source": [
    "size_df=len(df)\n",
    "uservalue = eg.integerbox(msg='Total size of data'+str(size_df)+',How many records you want to split to test data', lowerbound = 0, upperbound=(len(df)/2))\n",
    "uservalue"
   ]
  },
  {
   "cell_type": "code",
   "execution_count": 74,
   "metadata": {},
   "outputs": [
    {
     "data": {
      "text/html": [
       "<div>\n",
       "<style scoped>\n",
       "    .dataframe tbody tr th:only-of-type {\n",
       "        vertical-align: middle;\n",
       "    }\n",
       "\n",
       "    .dataframe tbody tr th {\n",
       "        vertical-align: top;\n",
       "    }\n",
       "\n",
       "    .dataframe thead th {\n",
       "        text-align: right;\n",
       "    }\n",
       "</style>\n",
       "<table border=\"1\" class=\"dataframe\">\n",
       "  <thead>\n",
       "    <tr style=\"text-align: right;\">\n",
       "      <th></th>\n",
       "      <th>Year</th>\n",
       "      <th>Selling_Price</th>\n",
       "      <th>Present_Price</th>\n",
       "      <th>Kms_Driven</th>\n",
       "      <th>Owner</th>\n",
       "    </tr>\n",
       "  </thead>\n",
       "  <tbody>\n",
       "    <tr>\n",
       "      <th>count</th>\n",
       "      <td>301.000000</td>\n",
       "      <td>301.000000</td>\n",
       "      <td>301.000000</td>\n",
       "      <td>301.000000</td>\n",
       "      <td>301.000000</td>\n",
       "    </tr>\n",
       "    <tr>\n",
       "      <th>mean</th>\n",
       "      <td>2013.627907</td>\n",
       "      <td>4.661296</td>\n",
       "      <td>7.628472</td>\n",
       "      <td>36947.205980</td>\n",
       "      <td>0.043189</td>\n",
       "    </tr>\n",
       "    <tr>\n",
       "      <th>std</th>\n",
       "      <td>2.891554</td>\n",
       "      <td>5.082812</td>\n",
       "      <td>8.644115</td>\n",
       "      <td>38886.883882</td>\n",
       "      <td>0.247915</td>\n",
       "    </tr>\n",
       "    <tr>\n",
       "      <th>min</th>\n",
       "      <td>2003.000000</td>\n",
       "      <td>0.100000</td>\n",
       "      <td>0.320000</td>\n",
       "      <td>500.000000</td>\n",
       "      <td>0.000000</td>\n",
       "    </tr>\n",
       "    <tr>\n",
       "      <th>25%</th>\n",
       "      <td>2012.000000</td>\n",
       "      <td>0.900000</td>\n",
       "      <td>1.200000</td>\n",
       "      <td>15000.000000</td>\n",
       "      <td>0.000000</td>\n",
       "    </tr>\n",
       "    <tr>\n",
       "      <th>50%</th>\n",
       "      <td>2014.000000</td>\n",
       "      <td>3.600000</td>\n",
       "      <td>6.400000</td>\n",
       "      <td>32000.000000</td>\n",
       "      <td>0.000000</td>\n",
       "    </tr>\n",
       "    <tr>\n",
       "      <th>75%</th>\n",
       "      <td>2016.000000</td>\n",
       "      <td>6.000000</td>\n",
       "      <td>9.900000</td>\n",
       "      <td>48767.000000</td>\n",
       "      <td>0.000000</td>\n",
       "    </tr>\n",
       "    <tr>\n",
       "      <th>max</th>\n",
       "      <td>2018.000000</td>\n",
       "      <td>35.000000</td>\n",
       "      <td>92.600000</td>\n",
       "      <td>500000.000000</td>\n",
       "      <td>3.000000</td>\n",
       "    </tr>\n",
       "  </tbody>\n",
       "</table>\n",
       "</div>"
      ],
      "text/plain": [
       "              Year  Selling_Price  Present_Price     Kms_Driven       Owner\n",
       "count   301.000000     301.000000     301.000000     301.000000  301.000000\n",
       "mean   2013.627907       4.661296       7.628472   36947.205980    0.043189\n",
       "std       2.891554       5.082812       8.644115   38886.883882    0.247915\n",
       "min    2003.000000       0.100000       0.320000     500.000000    0.000000\n",
       "25%    2012.000000       0.900000       1.200000   15000.000000    0.000000\n",
       "50%    2014.000000       3.600000       6.400000   32000.000000    0.000000\n",
       "75%    2016.000000       6.000000       9.900000   48767.000000    0.000000\n",
       "max    2018.000000      35.000000      92.600000  500000.000000    3.000000"
      ]
     },
     "execution_count": 74,
     "metadata": {},
     "output_type": "execute_result"
    }
   ],
   "source": [
    "# Summary of Data \n",
    "df.describe()"
   ]
  },
  {
   "cell_type": "code",
   "execution_count": 75,
   "metadata": {},
   "outputs": [
    {
     "data": {
      "text/plain": [
       "Car_Name          object\n",
       "Year               int64\n",
       "Selling_Price    float64\n",
       "Present_Price    float64\n",
       "Kms_Driven         int64\n",
       "Fuel_Type         object\n",
       "Seller_Type       object\n",
       "Transmission      object\n",
       "Owner              int64\n",
       "dtype: object"
      ]
     },
     "execution_count": 75,
     "metadata": {},
     "output_type": "execute_result"
    }
   ],
   "source": [
    "df.dtypes"
   ]
  },
  {
   "cell_type": "code",
   "execution_count": 76,
   "metadata": {},
   "outputs": [],
   "source": [
    "# Encoding to convert object to catagorical "
   ]
  },
  {
   "cell_type": "code",
   "execution_count": 78,
   "metadata": {},
   "outputs": [
    {
     "name": "stdout",
     "output_type": "stream",
     "text": [
      "converting column:  Car_Name\n",
      "converting column:  Fuel_Type\n",
      "converting column:  Seller_Type\n",
      "converting column:  Transmission\n"
     ]
    },
    {
     "data": {
      "text/plain": [
       "Car_Name           int32\n",
       "Year               int64\n",
       "Selling_Price    float64\n",
       "Present_Price    float64\n",
       "Kms_Driven         int64\n",
       "Fuel_Type          int32\n",
       "Seller_Type        int32\n",
       "Transmission       int32\n",
       "Owner              int64\n",
       "dtype: object"
      ]
     },
     "execution_count": 78,
     "metadata": {},
     "output_type": "execute_result"
    }
   ],
   "source": [
    "from sklearn.preprocessing import LabelEncoder\n",
    "ord_enc = LabelEncoder()\n",
    "for i in df.columns:\n",
    "    if df[i].dtypes == 'object':\n",
    "        print(\"converting column: \" , i)\n",
    "        df[i] = ord_enc.fit_transform(df[i])\n",
    "df.dtypes"
   ]
  },
  {
   "cell_type": "markdown",
   "metadata": {},
   "source": [
    "# Pearson Coeff Plot"
   ]
  },
  {
   "cell_type": "code",
   "execution_count": 79,
   "metadata": {},
   "outputs": [
    {
     "data": {
      "text/plain": [
       "<matplotlib.axes._subplots.AxesSubplot at 0x19645ec86d0>"
      ]
     },
     "execution_count": 79,
     "metadata": {},
     "output_type": "execute_result"
    },
    {
     "data": {
      "image/png": "[encoded data removed]",
      "text/plain": [
       "<Figure size 648x576 with 2 Axes>"
      ]
     },
     "metadata": {},
     "output_type": "display_data"
    }
   ],
   "source": [
    "normalizer = preprocessing.Normalizer().fit(df.dropna())\n",
    "df_NOR = normalizer.transform(df.dropna())\n",
    "df_NOR = pd.DataFrame(df_NOR)\n",
    "df_NOR.columns = df.columns\n",
    "df_NOR.head()\n",
    "import seaborn as sns \n",
    "import matplotlib.pyplot as plt \n",
    "from scipy.stats import norm \n",
    "corrmat = df_NOR.corr() \n",
    "f, ax = plt.subplots(figsize =(9, 8)) \n",
    "sns.heatmap(corrmat, ax = ax, cmap =\"YlGnBu\", linewidths = 0.1) "
   ]
  },
  {
   "cell_type": "code",
   "execution_count": 80,
   "metadata": {},
   "outputs": [
    {
     "data": {
      "text/plain": [
       "Index(['Car_Name', 'Year', 'Selling_Price', 'Present_Price', 'Kms_Driven',\n",
       "       'Fuel_Type', 'Seller_Type', 'Transmission', 'Owner'],\n",
       "      dtype='object')"
      ]
     },
     "execution_count": 80,
     "metadata": {},
     "output_type": "execute_result"
    }
   ],
   "source": [
    "df.columns"
   ]
  },
  {
   "cell_type": "code",
   "execution_count": 103,
   "metadata": {},
   "outputs": [],
   "source": [
    "fitted_list=[]\n",
    "y= df[selection_for_Target_Variable]\n",
    "x= df.drop(selection_for_Target_Variable, axis=1)\n",
    "normalizer = preprocessing.Normalizer().fit(x)\n",
    "x=normalizer.transform(x)\n",
    "n=uservalue\n",
    "X_train, X_test=  x[0:len(x)-n:], x[len(x)-n:]\n",
    "y_train, y_test=  y.iloc[0:len(y)-n], y.iloc[len(y)-n:]\n",
    "min_max_scaler = preprocessing.MinMaxScaler()\n",
    "fitted_list.append(LR(X_train, X_test, y_train, y_test))\n",
    "fitted_list.append(Poly(x, y, 3))\n",
    "fitted_list.append(Quantile(X_train, X_test, y_train, y_test))\n",
    "fitted_list.append(Ridge(X_train, X_test, y_train, y_test))\n",
    "fitted_list.append(Lasso(X_train, X_test, y_train, y_test))\n",
    "fitted_list.append(ENR(X_train, X_test, y_train, y_test))\n",
    "fitted_list.append(PCR(x, y))\n",
    "fitted_list.append(SVR(X_train, X_test, y_train, y_test))\n",
    "fitted_list.append(PLS(X_train, X_test, y_train, y_test))\n",
    "fitted_list.append(DT(X_train, X_test, y_train, y_test))\n",
    "fitted_list.append(RF(X_train, X_test, y_train, y_test))\n",
    "fitted_list.append(GBR(X_train, X_test, y_train, y_test))"
   ]
  },
  {
   "cell_type": "code",
   "execution_count": 108,
   "metadata": {},
   "outputs": [],
   "source": [
    "result_table=pd.DataFrame(fitted_list)\n",
    "result_table.columns=['Method','error_mse_f', 'error_mae_f', 'error_mse_p', 'error_mae_p',\"Train Length\" ]\n",
    "result_table['% Diff Fitting and Predcition MAE'] = round(((abs(result_table['error_mae_f']-result_table['error_mae_p'])*100)/result_table['error_mae_f']),1)\n",
    "result_table=result_table[~(result_table['% Diff Fitting and Predcition MAE']==np.inf)]\n",
    "result_table=result_table[~(result_table['error_mae_f']==0)]"
   ]
  },
  {
   "cell_type": "code",
   "execution_count": 109,
   "metadata": {},
   "outputs": [],
   "source": [
    "result_table = result_table.sort_values(by=['error_mae_f'], ascending=True).reset_index(drop=True).head(20)"
   ]
  },
  {
   "cell_type": "code",
   "execution_count": 110,
   "metadata": {
    "scrolled": true
   },
   "outputs": [
    {
     "data": {
      "text/html": [
       "<div>\n",
       "<style scoped>\n",
       "    .dataframe tbody tr th:only-of-type {\n",
       "        vertical-align: middle;\n",
       "    }\n",
       "\n",
       "    .dataframe tbody tr th {\n",
       "        vertical-align: top;\n",
       "    }\n",
       "\n",
       "    .dataframe thead th {\n",
       "        text-align: right;\n",
       "    }\n",
       "</style>\n",
       "<table border=\"1\" class=\"dataframe\">\n",
       "  <thead>\n",
       "    <tr style=\"text-align: right;\">\n",
       "      <th></th>\n",
       "      <th>Method</th>\n",
       "      <th>error_mse_f</th>\n",
       "      <th>error_mae_f</th>\n",
       "      <th>error_mse_p</th>\n",
       "      <th>error_mae_p</th>\n",
       "      <th>Train Length</th>\n",
       "      <th>% Diff Fitting and Predcition MAE</th>\n",
       "    </tr>\n",
       "  </thead>\n",
       "  <tbody>\n",
       "    <tr>\n",
       "      <th>0</th>\n",
       "      <td>DT</td>\n",
       "      <td>2.0</td>\n",
       "      <td>1.0</td>\n",
       "      <td>4.0</td>\n",
       "      <td>2.0</td>\n",
       "      <td>241</td>\n",
       "      <td>100.0</td>\n",
       "    </tr>\n",
       "    <tr>\n",
       "      <th>1</th>\n",
       "      <td>RF</td>\n",
       "      <td>2.0</td>\n",
       "      <td>1.0</td>\n",
       "      <td>3.0</td>\n",
       "      <td>1.0</td>\n",
       "      <td>241</td>\n",
       "      <td>0.0</td>\n",
       "    </tr>\n",
       "    <tr>\n",
       "      <th>2</th>\n",
       "      <td>LR</td>\n",
       "      <td>12.0</td>\n",
       "      <td>2.0</td>\n",
       "      <td>4.0</td>\n",
       "      <td>1.0</td>\n",
       "      <td>241</td>\n",
       "      <td>50.0</td>\n",
       "    </tr>\n",
       "    <tr>\n",
       "      <th>3</th>\n",
       "      <td>Quantile</td>\n",
       "      <td>22.0</td>\n",
       "      <td>2.0</td>\n",
       "      <td>8.0</td>\n",
       "      <td>2.0</td>\n",
       "      <td>241</td>\n",
       "      <td>0.0</td>\n",
       "    </tr>\n",
       "    <tr>\n",
       "      <th>4</th>\n",
       "      <td>PLS</td>\n",
       "      <td>15.0</td>\n",
       "      <td>2.0</td>\n",
       "      <td>6.0</td>\n",
       "      <td>2.0</td>\n",
       "      <td>241</td>\n",
       "      <td>0.0</td>\n",
       "    </tr>\n",
       "    <tr>\n",
       "      <th>5</th>\n",
       "      <td>SVR</td>\n",
       "      <td>32.0</td>\n",
       "      <td>3.0</td>\n",
       "      <td>17.0</td>\n",
       "      <td>3.0</td>\n",
       "      <td>241</td>\n",
       "      <td>0.0</td>\n",
       "    </tr>\n",
       "    <tr>\n",
       "      <th>6</th>\n",
       "      <td>Ridge</td>\n",
       "      <td>29.0</td>\n",
       "      <td>4.0</td>\n",
       "      <td>9.0</td>\n",
       "      <td>2.0</td>\n",
       "      <td>241</td>\n",
       "      <td>50.0</td>\n",
       "    </tr>\n",
       "    <tr>\n",
       "      <th>7</th>\n",
       "      <td>Lasso</td>\n",
       "      <td>30.0</td>\n",
       "      <td>4.0</td>\n",
       "      <td>9.0</td>\n",
       "      <td>2.0</td>\n",
       "      <td>241</td>\n",
       "      <td>50.0</td>\n",
       "    </tr>\n",
       "    <tr>\n",
       "      <th>8</th>\n",
       "      <td>ENR</td>\n",
       "      <td>30.0</td>\n",
       "      <td>4.0</td>\n",
       "      <td>9.0</td>\n",
       "      <td>2.0</td>\n",
       "      <td>241</td>\n",
       "      <td>50.0</td>\n",
       "    </tr>\n",
       "    <tr>\n",
       "      <th>9</th>\n",
       "      <td>PCR</td>\n",
       "      <td>NaN</td>\n",
       "      <td>NaN</td>\n",
       "      <td>NaN</td>\n",
       "      <td>NaN</td>\n",
       "      <td>298</td>\n",
       "      <td>NaN</td>\n",
       "    </tr>\n",
       "  </tbody>\n",
       "</table>\n",
       "</div>"
      ],
      "text/plain": [
       "     Method  error_mse_f  error_mae_f  error_mse_p  error_mae_p  Train Length  \\\n",
       "0        DT          2.0          1.0          4.0          2.0           241   \n",
       "1        RF          2.0          1.0          3.0          1.0           241   \n",
       "2        LR         12.0          2.0          4.0          1.0           241   \n",
       "3  Quantile         22.0          2.0          8.0          2.0           241   \n",
       "4       PLS         15.0          2.0          6.0          2.0           241   \n",
       "5       SVR         32.0          3.0         17.0          3.0           241   \n",
       "6     Ridge         29.0          4.0          9.0          2.0           241   \n",
       "7     Lasso         30.0          4.0          9.0          2.0           241   \n",
       "8       ENR         30.0          4.0          9.0          2.0           241   \n",
       "9       PCR          NaN          NaN          NaN          NaN           298   \n",
       "\n",
       "   % Diff Fitting and Predcition MAE  \n",
       "0                              100.0  \n",
       "1                                0.0  \n",
       "2                               50.0  \n",
       "3                                0.0  \n",
       "4                                0.0  \n",
       "5                                0.0  \n",
       "6                               50.0  \n",
       "7                               50.0  \n",
       "8                               50.0  \n",
       "9                                NaN  "
      ]
     },
     "execution_count": 110,
     "metadata": {},
     "output_type": "execute_result"
    }
   ],
   "source": [
    "result_table"
   ]
  },
  {
   "cell_type": "markdown",
   "metadata": {},
   "source": [
    "## Out of all regression methods DT has lowet fitting error but prediction error is higher \n",
    "## hence Random forecast regression is best regression for predicting Selling price "
   ]
  }
 ],
 "metadata": {
  "kernelspec": {
   "display_name": "Python 3",
   "language": "python",
   "name": "python3"
  },
  "language_info": {
   "codemirror_mode": {
    "name": "ipython",
    "version": 3
   },
   "file_extension": ".py",
   "mimetype": "text/x-python",
   "name": "python",
   "nbconvert_exporter": "python",
   "pygments_lexer": "ipython3",
   "version": "3.8.3"
  }
 },
 "nbformat": 4,
 "nbformat_minor": 2
}
